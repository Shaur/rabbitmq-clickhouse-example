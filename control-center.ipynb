{
 "cells": [
  {
   "cell_type": "code",
   "metadata": {
    "collapsed": true,
    "ExecuteTime": {
     "end_time": "2024-08-05T12:27:17.716221800Z",
     "start_time": "2024-08-05T12:27:17.619072200Z"
    }
   },
   "source": [
    "import com.fasterxml.jackson.core.StreamReadFeature\n",
    "import com.fasterxml.jackson.core.json.JsonReadFeature\n",
    "import com.fasterxml.jackson.core.json.JsonWriteFeature\n",
    "import com.fasterxml.jackson.module.kotlin.jacksonMapperBuilder\n",
    "import com.fasterxml.jackson.module.kotlin.jacksonObjectMapper\n",
    "import okhttp3.MediaType\n",
    "import okhttp3.MediaType.Companion.toMediaType\n",
    "import okhttp3.MediaType.Companion.toMediaTypeOrNull\n",
    "import okhttp3.MultipartBody\n",
    "import okhttp3.OkHttpClient\n",
    "import okhttp3.Request\n",
    "import okhttp3.RequestBody\n",
    "import okhttp3.RequestBody.Companion.toRequestBody\n",
    "\n",
    "val mapper = jacksonMapperBuilder()\n",
    "    .enable(StreamReadFeature.INCLUDE_SOURCE_IN_LOCATION)\n",
    "    .build()\n",
    "\n",
    "val jsonMediaType = \"application/json\".toMediaType()\n",
    "\n",
    "val client = OkHttpClient()\n",
    "\n",
    "val content = mapOf(\n",
    "    \"id\" to 1L,\n",
    "    \"fullName\" to \"John Karmak\"\n",
    ")\n",
    "\n",
    "val body = mapper.writeValueAsString(content).toRequestBody(jsonMediaType)\n",
    "val request = Request.Builder()\n",
    "    .url(\"http://localhost:8080/user\")\n",
    "    .post(body)\n",
    "    .build()\n",
    "\n",
    "val respose = client.newCall(request).execute()\n",
    "println(respose.code)\n"
   ],
   "outputs": [
    {
     "name": "stdout",
     "output_type": "stream",
     "text": [
      "200\r\n"
     ]
    }
   ],
   "execution_count": 18
  }
 ],
 "metadata": {
  "kernelspec": {
   "display_name": "Kotlin",
   "language": "kotlin",
   "name": "kotlin"
  },
  "language_info": {
   "name": "kotlin",
   "version": "1.9.23",
   "mimetype": "text/x-kotlin",
   "file_extension": ".kt",
   "pygments_lexer": "kotlin",
   "codemirror_mode": "text/x-kotlin",
   "nbconvert_exporter": ""
  }
 },
 "nbformat": 4,
 "nbformat_minor": 0
}
